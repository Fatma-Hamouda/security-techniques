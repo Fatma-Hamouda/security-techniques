{
  "nbformat": 4,
  "nbformat_minor": 0,
  "metadata": {
    "colab": {
      "provenance": []
    },
    "kernelspec": {
      "name": "python3",
      "display_name": "Python 3"
    },
    "language_info": {
      "name": "python"
    }
  },
  "cells": [
    {
      "cell_type": "code",
      "source": [
        "# dictionary contains items each item has key and value\n",
        "\n",
        "cipher ={\"A\":\"T\",\"a\":\"t\",\"B\":\"D\",\"b\":\"d\",\"C\":\"L\",\"c\":\"l\",\"D\":\"B\",\"d\":\"b\",\"E\":\"F\",\"e\":\"f\",\"F\":\"E\",\"f\":\"e\",\"G\":\"G\",\"g\":\"g\",\"H\":\"J\",\"h\":\"j\",\n",
        "         \"I\":\"K\",\"i\":\"k\",\"J\":\"H\",\"j\":\"h\",\"K\":\"I\",\"k\":\"i\",\"L\":\"C\",\"l\":\"c\",\"M\":\"V\",\"m\":\"v\",\"N\":\"P\",\"n\":\"p\",\"O\":\"W\",\"o\":\"w\",\"P\":\"N\",\"p\":\"n\",\n",
        "         \"Q\":\"X\",\"q\":\"x\",\"R\":\"Y\",\"r\":\"y\",\"S\":\"B\",\"s\":\"b\",\"T\":\"A\",\"t\":\"a\",\"U\":\"Z\",\"u\":\"z\",\"V\":\"M\",\"v\":\"m\",\"W\":\"O\",\"w\":\"o\",\"X\":\"Q\",\"x\":\"q\",\n",
        "         \"Y\":\"R\",\"y\":\"r\",\"Z\":\"H\",\"z\":\"h\"}\n",
        "\n",
        "def encode(words, cipher):\n",
        "  result = ''\n",
        "  for letter in words:\n",
        "    if letter in cipher.keys():\n",
        "      result = result + cipher[letter]\n",
        "    else:\n",
        "      result = result + letter\n",
        "\n",
        "  return result\n",
        "\n",
        "def decode(words, cipher):\n",
        "  result = ''\n",
        "  for letter in words:\n",
        "    if letter in cipher.values():\n",
        "      for key,value in cipher.items():\n",
        "        if value==letter:\n",
        "          result = result + key\n",
        "    else:\n",
        "      result = result + letter\n",
        "\n",
        "  return result\n",
        "\n",
        "phrase = input('Please enter your phrase: ')\n",
        "cipher_text=encode(phrase, cipher)\n",
        "print(\"Cipher text is: \",cipher_text)\n",
        "plain_text=decode(cipher_text,cipher)\n",
        "print(\"plain text from ciphe text is: \",plain_text)\n"
      ],
      "metadata": {
        "colab": {
          "base_uri": "https://localhost:8080/"
        },
        "id": "eLGJxCNoQhhF",
        "outputId": "84448f52-242c-4b60-d1f1-1b1cf20a9309"
      },
      "execution_count": null,
      "outputs": [
        {
          "output_type": "stream",
          "name": "stdout",
          "text": [
            "Please enter your phrase: fatma\n",
            "Cipher text is:  etavt\n",
            "plain text from ciphe text is:  fatma\n"
          ]
        }
      ]
    }
  ]
}