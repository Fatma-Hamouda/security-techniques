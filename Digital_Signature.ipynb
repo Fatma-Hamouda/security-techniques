{
  "nbformat": 4,
  "nbformat_minor": 0,
  "metadata": {
    "colab": {
      "provenance": []
    },
    "kernelspec": {
      "name": "python3",
      "display_name": "Python 3"
    },
    "language_info": {
      "name": "python"
    }
  },
  "cells": [
    {
      "cell_type": "code",
      "source": [
        "!pip install pycryptodome"
      ],
      "metadata": {
        "colab": {
          "base_uri": "https://localhost:8080/"
        },
        "id": "C-OstIi_zi9Z",
        "outputId": "aed64e3b-d9ff-4eca-b94d-e84eb61177b8"
      },
      "execution_count": null,
      "outputs": [
        {
          "output_type": "stream",
          "name": "stdout",
          "text": [
            "Collecting pycryptodome\n",
            "  Downloading pycryptodome-3.19.0-cp35-abi3-manylinux_2_17_x86_64.manylinux2014_x86_64.whl (2.1 MB)\n",
            "\u001b[2K     \u001b[90m━━━━━━━━━━━━━━━━━━━━━━━━━━━━━━━━━━━━━━━━\u001b[0m \u001b[32m2.1/2.1 MB\u001b[0m \u001b[31m12.6 MB/s\u001b[0m eta \u001b[36m0:00:00\u001b[0m\n",
            "\u001b[?25hInstalling collected packages: pycryptodome\n",
            "Successfully installed pycryptodome-3.19.0\n"
          ]
        }
      ]
    },
    {
      "cell_type": "code",
      "execution_count": null,
      "metadata": {
        "colab": {
          "base_uri": "https://localhost:8080/"
        },
        "id": "JnV2hs2Yy-aR",
        "outputId": "e533adea-9e9a-483e-9e5a-89af0e139928"
      },
      "outputs": [
        {
          "output_type": "stream",
          "name": "stdout",
          "text": [
            "Enter your signature: fatma\n",
            "The signature is authentic.\n"
          ]
        }
      ],
      "source": [
        "from Crypto.Signature import pkcs1_15\n",
        "from Crypto.Hash import SHA256\n",
        "from Crypto.PublicKey import RSA\n",
        "\n",
        "key = RSA.generate(2048)\n",
        "private_key = key.export_key()\n",
        "public_key = key.publickey().export_key()\n",
        "\n",
        "\n",
        "name = input(\"Enter your signature: \")\n",
        "message = name.encode()\n",
        "\n",
        "\n",
        "hash = SHA256.new(message)\n",
        "signature = pkcs1_15.new(RSA.import_key(private_key)).sign(hash)\n",
        "\n",
        "\n",
        "hash = SHA256.new(message)\n",
        "try:\n",
        "    pkcs1_15.new(RSA.import_key(public_key)).verify(hash, signature)\n",
        "    print(\"The signature is authentic.\")\n",
        "except ValueError:\n",
        "    print(\"The signature is not authentic.\")\n"
      ]
    }
  ]
}