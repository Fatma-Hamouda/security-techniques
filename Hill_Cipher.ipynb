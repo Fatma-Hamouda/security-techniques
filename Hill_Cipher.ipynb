{
  "nbformat": 4,
  "nbformat_minor": 0,
  "metadata": {
    "colab": {
      "provenance": [],
      "collapsed_sections": [
        "Kr6HBSev42g1",
        "yPR9fW794Ydd",
        "-TeMehix34YV"
      ]
    },
    "kernelspec": {
      "name": "python3",
      "display_name": "Python 3"
    },
    "language_info": {
      "name": "python"
    }
  },
  "cells": [
    {
      "cell_type": "markdown",
      "source": [
        "# Hill Cipher with pyciphers library"
      ],
      "metadata": {
        "id": "Kr6HBSev42g1"
      }
    },
    {
      "cell_type": "code",
      "source": [
        "!pip install pyciphers"
      ],
      "metadata": {
        "colab": {
          "base_uri": "https://localhost:8080/"
        },
        "id": "eHNU1dUVzi5p",
        "outputId": "60336327-b462-417c-87b3-a5417c97dd24"
      },
      "execution_count": null,
      "outputs": [
        {
          "output_type": "stream",
          "name": "stdout",
          "text": [
            "Collecting pyciphers\n",
            "  Downloading pyciphers-1.0.0-py3-none-any.whl (7.7 kB)\n",
            "Requirement already satisfied: numpy in /usr/local/lib/python3.10/dist-packages (from pyciphers) (1.23.5)\n",
            "Installing collected packages: pyciphers\n",
            "Successfully installed pyciphers-1.0.0\n"
          ]
        }
      ]
    },
    {
      "cell_type": "code",
      "source": [
        "from pycipher import HillCipher\n",
        "hc = HillCipher(\"beaf\")\n",
        "plaintext = input(\"Enter the plaintext: \")\n",
        "\n",
        "encrypted_text = hc.encrypt(plaintext)\n",
        "print(\"encrypted text: \", encrypted_text)\n",
        "\n",
        "decrypted_text = hc.decrypt(encrypted_text)\n",
        "print(\"decrypted text: \", decrypted_text)"
      ],
      "metadata": {
        "colab": {
          "base_uri": "https://localhost:8080/"
        },
        "id": "cGqPjZWN03vR",
        "outputId": "dd83831d-28f1-4b81-c31a-adeaed9e4836"
      },
      "execution_count": null,
      "outputs": [
        {
          "output_type": "stream",
          "name": "stdout",
          "text": [
            "Enter the plaintext: attack\n",
            "encrypted text:  AXTECW\n",
            "decrypted text:  ATTACK\n"
          ]
        }
      ]
    },
    {
      "cell_type": "markdown",
      "source": [
        "# Hill Cipher with sympy cryptography library"
      ],
      "metadata": {
        "id": "yPR9fW794Ydd"
      }
    },
    {
      "cell_type": "code",
      "source": [
        "from sympy.crypto.crypto import encipher_hill, decipher_hill\n",
        "from sympy import Matrix\n",
        "\n",
        "key = Matrix([[1, 2], [3, 5]])\n",
        "plaintext = input(\"Enter the plaintext: \")\n",
        "\n",
        "encrypted_text = encipher_hill(plaintext, key)\n",
        "print(\"encrypted text: \", encrypted_text)\n",
        "\n",
        "decrypted_text = decipher_hill(encrypted_text, key)\n",
        "print(\"decrypted text: \", decrypted_text)"
      ],
      "metadata": {
        "colab": {
          "base_uri": "https://localhost:8080/"
        },
        "id": "u2Y1r94oiHbk",
        "outputId": "12cb6fca-d63c-495e-c4ba-3e79595c5e0a"
      },
      "execution_count": null,
      "outputs": [
        {
          "output_type": "stream",
          "name": "stdout",
          "text": [
            "Enter the plaintext: data\n",
            "encrypted text:  DJTF\n",
            "decrypted text:  DATA\n"
          ]
        }
      ]
    },
    {
      "cell_type": "markdown",
      "source": [
        "# Hill Cipher with numpy and sympy library"
      ],
      "metadata": {
        "id": "-TeMehix34YV"
      }
    },
    {
      "cell_type": "code",
      "source": [
        "import numpy as np\n",
        "import sympy\n",
        "\n",
        "def encrypt(plain_text, key_matrix):\n",
        "    plain_text = plain_text.upper().replace(\" \", \"\")\n",
        "    if len(plain_text) % len(key_matrix) != 0:\n",
        "        plain_text += \"X\" * (len(key_matrix) - len(plain_text) % len(key_matrix))\n",
        "    encrypted_text = \"\"\n",
        "    for i in range(0, len(plain_text), len(key_matrix)):\n",
        "        plain_vector = np.array([ord(c) - 65 for c in plain_text[i:i+len(key_matrix)]])\n",
        "        encrypted_vector = np.mod(np.dot(key_matrix, plain_vector), 26)\n",
        "        encrypted_text += \"\".join(chr(n + 65) for n in encrypted_vector)\n",
        "    return encrypted_text\n",
        "\n",
        "\n",
        "def decrypt(encrypted_text, key_matrix):\n",
        "    encrypted_text = encrypted_text.upper().replace(\" \", \"\")\n",
        "    plain_text = \"\"\n",
        "    for i in range(0, len(encrypted_text), len(key_matrix)):\n",
        "        encrypted_vector = np.array([ord(c) - 65 for c in encrypted_text[i:i+len(key_matrix)]])\n",
        "        key_matrix_inv = sympy.Matrix(key_matrix).inv_mod(26)\n",
        "        key_matrix_inv = np.array(key_matrix_inv).astype(int)\n",
        "        plain_vector = np.mod(np.dot(key_matrix_inv, encrypted_vector), 26)\n",
        "        plain_text += \"\".join(chr(int(n) + 65) for n in plain_vector)\n",
        "    return plain_text\n"
      ],
      "metadata": {
        "id": "AAbgdBnLuTQr"
      },
      "execution_count": null,
      "outputs": []
    },
    {
      "cell_type": "code",
      "source": [
        "plain_text = input(\"Enter the plaintext: \")\n",
        "key_matrix = np.array([[3, 3], [2, 5]])\n",
        "encrypted_text = encrypt(plain_text, key_matrix)\n",
        "print(\"Encrypted text:\", encrypted_text)\n",
        "decrypted_text = decrypt(encrypted_text, key_matrix)\n",
        "print(\"Decrypted text:\", decrypted_text)"
      ],
      "metadata": {
        "colab": {
          "base_uri": "https://localhost:8080/"
        },
        "id": "DQrLotCQxVfo",
        "outputId": "0cb9c2f0-4bde-4bfc-8398-a9a723d16290"
      },
      "execution_count": null,
      "outputs": [
        {
          "output_type": "stream",
          "name": "stdout",
          "text": [
            "Enter the plaintext: huda\n",
            "Encrypted text: DKJG\n",
            "Decrypted text: HUDA\n"
          ]
        }
      ]
    }
  ]
}