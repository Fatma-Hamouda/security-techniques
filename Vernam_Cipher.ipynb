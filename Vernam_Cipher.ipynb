{
  "nbformat": 4,
  "nbformat_minor": 0,
  "metadata": {
    "colab": {
      "provenance": []
    },
    "kernelspec": {
      "name": "python3",
      "display_name": "Python 3"
    },
    "language_info": {
      "name": "python"
    }
  },
  "cells": [
    {
      "cell_type": "code",
      "source": [
        "!pip install vernamcipher"
      ],
      "metadata": {
        "colab": {
          "base_uri": "https://localhost:8080/"
        },
        "id": "VG-eBHAblWN5",
        "outputId": "3a7616e9-dc0c-47b0-bda1-0afa1673bc2c"
      },
      "execution_count": null,
      "outputs": [
        {
          "output_type": "stream",
          "name": "stdout",
          "text": [
            "Collecting vernamcipher\n",
            "  Downloading vernamcipher-1.1.5-py3-none-any.whl (16 kB)\n",
            "Requirement already satisfied: requests>=2.27.1 in /usr/local/lib/python3.10/dist-packages (from vernamcipher) (2.31.0)\n",
            "Requirement already satisfied: charset-normalizer<4,>=2 in /usr/local/lib/python3.10/dist-packages (from requests>=2.27.1->vernamcipher) (3.3.2)\n",
            "Requirement already satisfied: idna<4,>=2.5 in /usr/local/lib/python3.10/dist-packages (from requests>=2.27.1->vernamcipher) (3.6)\n",
            "Requirement already satisfied: urllib3<3,>=1.21.1 in /usr/local/lib/python3.10/dist-packages (from requests>=2.27.1->vernamcipher) (2.0.7)\n",
            "Requirement already satisfied: certifi>=2017.4.17 in /usr/local/lib/python3.10/dist-packages (from requests>=2.27.1->vernamcipher) (2023.11.17)\n",
            "Installing collected packages: vernamcipher\n",
            "Successfully installed vernamcipher-1.1.5\n"
          ]
        }
      ]
    },
    {
      "cell_type": "code",
      "execution_count": null,
      "metadata": {
        "colab": {
          "base_uri": "https://localhost:8080/"
        },
        "id": "2JtqAeStj-jW",
        "outputId": "b9d13f18-1ddd-49f8-9b7d-acb93a072107"
      },
      "outputs": [
        {
          "output_type": "stream",
          "name": "stdout",
          "text": [
            "Enter the plain text: fatma\n",
            "Plaintext: fatma\n",
            "Key: nYQAGrjEEdAbapu2FitMKhAMLHAeuBN9o9AF1kF9kXDZzuq2I4zGM36qpVb5jE1CFrocofi9g79Z3kDgBWzs40h3GD5aRdMtjWwN42SA9UsVUPc8QZvsS2P3gF9nYVbI195c4DeF1CJsXaClZPB2KmcAigI2knKxRggjt0GjWZdPjM26tcx6Qre1eMNE49bqyGoiRunp6oLXnnkR73knbqwczvBROusg58oiqFOD5VaWvpZfOqjFdBzCIxSZ0ONnlIm96mtNrvyXC8MFEOi1HUWzj3hPrvl3n9oj9MOcIyK2V3OOD2vBDPxY2swYHdHz3LeJE5HrbMk7T93zPczpwzuGYZCbsyUtYiVCMyexcPkVN5YIBMWqOqMoXh1fwxsSLSoBXYxDc2aQrwSlg6aosNJmGiPL3OK2llLNRFughq5sTgDtdjKsPcZ72igR2dxCOl9xJeEkaQ12PahckKMt0u71zUuepkuL2VskxzxL07hWkzccEGuBgFPwWD6GfVsAJua78gB99ldGNBHPDbNgWbgT0eD7vbMgp7K4O3ShpT5suLHTlFCfyJgT5nfruLshuX0a1clvSaEvT4T56pwzLaUdio9ekAlaD2XlhLIhXJ6jJU5Lr1OXEuYT6jGwCk2h8oqqh3APISMxyFXDu8mVkp8WXnW7zVlwWTNwU3m1KVQPBbdnZpYq4FPzxJWWj8Hy2c51uNIivBfwGyq478RwUQZ5xsIcdjV6iiTUhy5HikBt0TCkaKiR0fplNLFLmi3fCmKfVyqgPR9H0T6O7xupXqyEG5YDOIcWj2ETl1HWdTjmJisfQhfaJu0M5rKKaDmo9ZKwRWgC8S1h1K9lfsXEDZCWdLGAxQbTWPrBvGwBi4h7HiD2vUJooyWv07L8Wx3SRZZ3HsRHVlKIHzHVtUW7lUuFE5J201gvVnSIctvCrsqCR87rS5xrP0zujF6xhaXjMlW9Qmxw19vhGOWaxC352cO8pW82QzDhkviiB6JVq9VArLFMXF\n",
            "Encrypted data: \b8%,&\n",
            "Decrypted data: fatma\n"
          ]
        }
      ],
      "source": [
        "from vernamcipher.cryptographic import Cryptographic\n",
        "\n",
        "plaintext = input(\"Enter the plain text: \")\n",
        "key = Cryptographic.generate_key()\n",
        "encrypted_data = Cryptographic.exclusive_operations(plaintext, key)\n",
        "decrypted_data = Cryptographic.exclusive_operations(encrypted_data, key)\n",
        "\n",
        "print(\"Plaintext:\", plaintext)\n",
        "print(\"Key:\", key)\n",
        "print(\"Encrypted data:\", encrypted_data)\n",
        "print(\"Decrypted data:\", decrypted_data)\n"
      ]
    }
  ]
}