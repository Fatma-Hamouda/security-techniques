{
  "nbformat": 4,
  "nbformat_minor": 0,
  "metadata": {
    "colab": {
      "provenance": []
    },
    "kernelspec": {
      "name": "python3",
      "display_name": "Python 3"
    },
    "language_info": {
      "name": "python"
    }
  },
  "cells": [
    {
      "cell_type": "code",
      "source": [
        "!pip install pycryptodome\n",
        "\n",
        "from Crypto.Cipher import AES\n",
        "from Crypto.Util.Padding import pad, unpad\n",
        "\n",
        "key = b'ThisIsASecretKey'\n",
        "cipher = AES.new(key, AES.MODE_ECB)\n",
        "\n",
        "plaintext = b\" fatma yousry \"\n",
        "padded_plaintext = pad(plaintext, AES.block_size)\n",
        "ciphertext = cipher.encrypt(padded_plaintext)\n",
        "print(\"Encrypted ciphertext:\", ciphertext)\n",
        "\n",
        "decipher = AES.new(key, AES.MODE_ECB)\n",
        "decrypted_padded_text = decipher.decrypt(ciphertext)\n",
        "original_plaintext = unpad(decrypted_padded_text, AES.block_size)\n",
        "\n",
        "print(\"Original plaintext:\", original_plaintext)\n"
      ],
      "metadata": {
        "id": "A63Yd3nrDxXy",
        "outputId": "f705ddc1-ef0b-44d6-a96c-4faf07348059",
        "colab": {
          "base_uri": "https://localhost:8080/"
        }
      },
      "execution_count": null,
      "outputs": [
        {
          "output_type": "stream",
          "name": "stdout",
          "text": [
            "Requirement already satisfied: pycryptodome in /usr/local/lib/python3.10/dist-packages (3.19.0)\n",
            "Encrypted ciphertext: b'\\x7f9YX\\x8b\\x04\\x16|O\\xcaC/\\xcf\\xc7\\x8fL'\n",
            "Original plaintext: b' fatma yousry '\n"
          ]
        }
      ]
    }
  ]
}