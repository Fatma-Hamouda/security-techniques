{
  "nbformat": 4,
  "nbformat_minor": 0,
  "metadata": {
    "colab": {
      "provenance": []
    },
    "kernelspec": {
      "name": "python3",
      "display_name": "Python 3"
    },
    "language_info": {
      "name": "python"
    }
  },
  "cells": [
    {
      "cell_type": "code",
      "execution_count": null,
      "metadata": {
        "id": "KUEgO0XxwObg",
        "colab": {
          "base_uri": "https://localhost:8080/"
        },
        "outputId": "5adeb018-2a9f-4879-c91b-fc46bdacc6b8"
      },
      "outputs": [
        {
          "output_type": "stream",
          "name": "stdout",
          "text": [
            "Enter the message: FATMAYOUSRY\n",
            "Enter the keyword: KAMAL\n",
            "Encrypted message: PAFMLIOGSCI\n",
            "Decrypted message: FATMAYOUSRY\n"
          ]
        }
      ],
      "source": [
        "def generateKey(word, key):\n",
        "  key = list(key)\n",
        "  if len(word) == len(key):\n",
        "    return(key)\n",
        "  else:\n",
        "    for i in range(len(word) -len(key)):\n",
        "      key.append(key[i % len(key)])\n",
        "      return(\"\" . join(key))\n",
        "\n",
        "def encryption(word, key):\n",
        "  encrypt_text = []\n",
        "  for i in range(len(word)):\n",
        "    x = (ord(word[i]) +ord(key[i])) % 26\n",
        "    x += ord('A')\n",
        "    encrypt_text.append(chr(x))\n",
        "  return(\"\" . join(encrypt_text))\n",
        "\n",
        "def decryption(encrypt_text, key):\n",
        "  plain_text = []\n",
        "  for i in range(len(encrypt_text)):\n",
        "    x = (ord(encrypt_text[i]) -ord(key[i]) + 26) % 26\n",
        "    x += ord('A')\n",
        "    plain_text.append(chr(x))\n",
        "  return(\"\" . join(plain_text))\n",
        "\n",
        "if __name__ == \"__main__\":\n",
        "  string = input(\"Enter the message: \")\n",
        "  keyword = input(\"Enter the keyword: \")\n",
        "  key = generateKey(string, keyword)\n",
        "  encrypt_text = encryption(string,key)\n",
        "  print(\"Encrypted message:\", encrypt_text)\n",
        "  print(\"Decrypted message:\", decryption(encrypt_text, key))"
      ]
    }
  ]
}